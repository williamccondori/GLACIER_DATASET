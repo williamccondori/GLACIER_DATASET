{
 "cells": [
  {
   "cell_type": "code",
   "execution_count": null,
   "id": "initial_id",
   "metadata": {
    "collapsed": true
   },
   "outputs": [],
   "source": [
    "import logging\n",
    "import os\n",
    "from pathlib import Path\n",
    "\n",
    "import geopandas as gpd\n",
    "import rasterio\n",
    "from shapely.geometry import MultiPolygon, Polygon\n",
    "from shapely.geometry import box, mapping\n",
    "\n",
    "logging.basicConfig(\n",
    "    level=logging.INFO,\n",
    "    format=\"%(asctime)s %(levelname)s %(name)s %(message)s\",\n",
    ")"
   ]
  },
  {
   "metadata": {},
   "cell_type": "code",
   "outputs": [],
   "execution_count": null,
   "source": "study_area = \"CORDILLERA BLANCA\"  # \"CORDILLERA BLANCA\" or \"CORDILLERA VILCABAMBA\"",
   "id": "8421a3c5b8a7ed73"
  },
  {
   "metadata": {},
   "cell_type": "code",
   "outputs": [],
   "execution_count": null,
   "source": [
    "input_path = Path(f\"data/{study_area}\")\n",
    "\n",
    "polygons = []\n",
    "\n",
    "for raster_folder in os.listdir(input_path):\n",
    "    sample_image = os.listdir(input_path / f\"{raster_folder}\")[0]\n",
    "    sample_image = input_path / f\"{raster_folder}/{sample_image}\"\n",
    "\n",
    "    with rasterio.open(sample_image) as src:\n",
    "        bbox = src.bounds\n",
    "\n",
    "        poly = box(bbox[0], bbox[1], bbox[2], bbox[3])\n",
    "        poly_geojson = mapping(poly)\n",
    "        polygons.append(poly_geojson)"
   ],
   "id": "fdecec5a86535b9e"
  },
  {
   "metadata": {},
   "cell_type": "code",
   "outputs": [],
   "execution_count": null,
   "source": [
    "polygons_shapely = [Polygon(poly[\"coordinates\"][0]) for poly in polygons]\n",
    "multi_polygon = MultiPolygon(polygons_shapely)\n",
    "external_contour = multi_polygon.convex_hull\n",
    "external_contour"
   ],
   "id": "2a179139d8fca0f5"
  },
  {
   "metadata": {},
   "cell_type": "code",
   "outputs": [],
   "execution_count": null,
   "source": [
    "gdf = gpd.GeoDataFrame(geometry=[external_contour])\n",
    "gdf.crs = src.crs\n",
    "gdf = gdf.to_crs(\"EPSG:4326\")\n",
    "gdf.to_file(f\"{study_area}.shp\")\n",
    "\n",
    "logging.info(f\"Bounding box saved in {study_area}.shp\")"
   ],
   "id": "eec66e97e71a6ac1"
  }
 ],
 "metadata": {
  "kernelspec": {
   "display_name": "Python 3",
   "language": "python",
   "name": "python3"
  },
  "language_info": {
   "codemirror_mode": {
    "name": "ipython",
    "version": 2
   },
   "file_extension": ".py",
   "mimetype": "text/x-python",
   "name": "python",
   "nbconvert_exporter": "python",
   "pygments_lexer": "ipython2",
   "version": "2.7.6"
  }
 },
 "nbformat": 4,
 "nbformat_minor": 5
}
