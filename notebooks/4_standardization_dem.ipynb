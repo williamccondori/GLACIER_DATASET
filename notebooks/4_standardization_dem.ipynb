{
 "cells": [
  {
   "cell_type": "code",
   "execution_count": null,
   "id": "initial_id",
   "metadata": {
    "collapsed": true
   },
   "outputs": [],
   "source": [
    "import logging\n",
    "from pathlib import Path\n",
    "\n",
    "import rasterio\n",
    "from rasterio.warp import calculate_default_transform, reproject, Resampling\n",
    "\n",
    "logging.basicConfig(\n",
    "    level=logging.INFO,\n",
    "    format=\"%(asctime)s %(levelname)s %(name)s %(message)s\",\n",
    ")"
   ]
  },
  {
   "metadata": {},
   "cell_type": "code",
   "outputs": [],
   "execution_count": null,
   "source": [
    "mosaic_input = Path(\"data/DEM_BLANCA.TIF\")\n",
    "mosaic_output = Path(\"results/DEM_BLANCA_MR.TIF\")\n",
    "spatial_resolution = 10"
   ],
   "id": "d663753fbc3df470"
  },
  {
   "metadata": {},
   "cell_type": "code",
   "outputs": [],
   "execution_count": null,
   "source": [
    "with rasterio.open(mosaic_input) as src:\n",
    "    x_res = y_res = spatial_resolution\n",
    "\n",
    "    transform, width, height = calculate_default_transform(\n",
    "        src.crs,\n",
    "        {\"init\": \"EPSG:32718\"},\n",
    "        src.width,\n",
    "        src.height,\n",
    "        *src.bounds,\n",
    "        resolution=(x_res, y_res),\n",
    "    )\n",
    "\n",
    "    kwargs = src.meta.copy()\n",
    "    kwargs.update(\n",
    "        {\n",
    "            \"crs\": \"EPSG:32718\",\n",
    "            \"transform\": transform,\n",
    "            \"width\": width,\n",
    "            \"height\": height,\n",
    "            \"nodata\": 0,\n",
    "            \"driver\": \"GTiff\"\n",
    "        }\n",
    "    )\n",
    "\n",
    "    with rasterio.open(mosaic_output, \"w\", **kwargs) as dst:\n",
    "        for i in range(1, src.count + 1):\n",
    "            reproject(\n",
    "                source=rasterio.band(src, i),\n",
    "                destination=rasterio.band(dst, i),\n",
    "                src_transform=src.transform,\n",
    "                src_crs=src.crs,\n",
    "                dst_transform=transform,\n",
    "                dst_crs=\"EPSG:32718\",\n",
    "                resampling=Resampling.cubic,\n",
    "                src_nodata=None,\n",
    "                dst_nodata=0,\n",
    "            )\n",
    "\n",
    "logging.info(f\"Resampled DEM saved in {mosaic_output}\")"
   ],
   "id": "ca8a7d74ef091288"
  }
 ],
 "metadata": {
  "kernelspec": {
   "display_name": "Python 3",
   "language": "python",
   "name": "python3"
  },
  "language_info": {
   "codemirror_mode": {
    "name": "ipython",
    "version": 2
   },
   "file_extension": ".py",
   "mimetype": "text/x-python",
   "name": "python",
   "nbconvert_exporter": "python",
   "pygments_lexer": "ipython2",
   "version": "2.7.6"
  }
 },
 "nbformat": 4,
 "nbformat_minor": 5
}
