{
 "cells": [
  {
   "cell_type": "code",
   "execution_count": null,
   "id": "initial_id",
   "metadata": {
    "collapsed": true
   },
   "outputs": [],
   "source": [
    "import logging\n",
    "import rasterio\n",
    "from rasterio.features import rasterize\n",
    "from rasterio.transform import from_origin\n",
    "import numpy as np\n",
    "import geopandas as gpd\n",
    "from pathlib import Path\n",
    "\n",
    "logging.basicConfig(\n",
    "    level=logging.INFO,\n",
    "    format=\"%(asctime)s %(levelname)s %(name)s %(message)s\",\n",
    ")"
   ]
  },
  {
   "metadata": {},
   "cell_type": "code",
   "outputs": [],
   "execution_count": null,
   "source": [
    "spatial_resolution = 10\n",
    "shape_folder = Path(f\"data/SHAPE\")\n",
    "shape_file = shape_folder / \"shapefile.shp\"\n",
    "output_folder = Path(f\"results/mask.tif\")"
   ],
   "id": "55e63f0d188e74e4"
  },
  {
   "metadata": {},
   "cell_type": "code",
   "outputs": [],
   "execution_count": null,
   "source": [
    "gdf = gpd.read_file(shape_file)\n",
    "gdf = gdf.to_crs(\"EPSG:32718\")\n",
    "\n",
    "bounds = gdf.total_bounds\n",
    "\n",
    "cols = int((bounds[2] - bounds[0]) / spatial_resolution)\n",
    "rows = int((bounds[3] - bounds[1]) / spatial_resolution)\n",
    "\n",
    "fill_value = 0\n",
    "\n",
    "gdf['Tipo'] = gdf['Tipo'].str.lower()\n",
    "\n",
    "# Exclude some values.\n",
    "exclude = ['glaciar en roca']\n",
    "gdf = gdf[~gdf['Tipo'].isin(exclude)]\n",
    "gdf['TipoInt'] = gdf['Tipo'].astype('category').cat.codes\n",
    "gdf['TipoInt'] = gdf['TipoInt'] + 1\n",
    "\n",
    "logging.info(f\"\"\"\n",
    "size: cols={cols}, rows={rows}\n",
    "bounds: {bounds}\n",
    "values: {gdf['Tipo'].unique()}\n",
    "values in numeric: {gdf['TipoInt'].unique()}\n",
    "fill_value: {fill_value}\n",
    "\"\"\")\n",
    "\n",
    "data = rasterize(\n",
    "    [(geom, value) for geom, value in zip(gdf.geometry, gdf.TipoInt)],\n",
    "    out_shape=(rows, cols),\n",
    "    transform=from_origin(bounds[0], bounds[3], spatial_resolution, spatial_resolution),\n",
    "    fill=fill_value,\n",
    "    dtype=np.uint8,\n",
    "    all_touched=True\n",
    ")\n",
    "\n",
    "with rasterio.open(\n",
    "    output_folder,\n",
    "    'w',\n",
    "    driver='GTiff',\n",
    "    height=rows,\n",
    "    width=cols,\n",
    "    count=1,\n",
    "    dtype=np.uint8,\n",
    "    crs=\"EPSG:32718\",\n",
    "    transform=from_origin(bounds[0], bounds[3], spatial_resolution, spatial_resolution),\n",
    ") as dst:\n",
    "    dst.write(data, 1)\n",
    "\n",
    "logging.info(f\"Mask saved in {output_folder}\")"
   ],
   "id": "fc9437bcd5f9f0ba"
  }
 ],
 "metadata": {
  "kernelspec": {
   "display_name": "Python 3",
   "language": "python",
   "name": "python3"
  },
  "language_info": {
   "codemirror_mode": {
    "name": "ipython",
    "version": 2
   },
   "file_extension": ".py",
   "mimetype": "text/x-python",
   "name": "python",
   "nbconvert_exporter": "python",
   "pygments_lexer": "ipython2",
   "version": "2.7.6"
  }
 },
 "nbformat": 4,
 "nbformat_minor": 5
}
