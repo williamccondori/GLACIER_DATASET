{
 "cells": [
  {
   "cell_type": "code",
   "execution_count": null,
   "id": "initial_id",
   "metadata": {
    "collapsed": true
   },
   "outputs": [],
   "source": [
    "import logging\n",
    "import random\n",
    "import shutil\n",
    "from pathlib import Path\n",
    "\n",
    "logging.basicConfig(\n",
    "    level=logging.INFO,\n",
    "    format=\"%(asctime)s %(levelname)s %(name)s %(message)s\",\n",
    ")"
   ]
  },
  {
   "metadata": {},
   "cell_type": "code",
   "outputs": [],
   "execution_count": null,
   "source": [
    "input_folder_img = Path(f\"data\\IMG\")\n",
    "input_folder_mask = Path(f\"data\\MASK\")\n",
    "\n",
    "output_folder = Path(f\"results\\dataset_distributed\")\n",
    "\n",
    "eval_percent = 0.35\n",
    "test_percent = 0.05"
   ],
   "id": "473f087147f0af9b"
  },
  {
   "metadata": {},
   "cell_type": "code",
   "outputs": [],
   "execution_count": null,
   "source": [
    "output_train = output_folder / \"TRAIN\"\n",
    "output_eval = output_folder / \"EVAL\"\n",
    "output_test = output_folder / \"TEST\"\n",
    "\n",
    "masks = list(input_folder_mask.glob(\"*.tif\"))\n",
    "\n",
    "val = int(len(masks) * eval_percent)\n",
    "test = int(len(masks) * test_percent)\n",
    "train = len(masks) - val - test\n",
    "\n",
    "logging.info(f\"Train: {train}\")\n",
    "logging.info(f\"Eval: {val}\")\n",
    "logging.info(f\"Test: {test}\")"
   ],
   "id": "e6b2c7024887863a"
  },
  {
   "metadata": {},
   "cell_type": "code",
   "outputs": [],
   "execution_count": null,
   "source": [
    "train_tiles = random.sample(masks, train)\n",
    "eval_tiles = random.sample(list(set(masks) - set(train_tiles)), val)\n",
    "test_tiles = list(set(masks) - set(train_tiles) - set(eval_tiles))\n",
    "\n",
    "logging.info(f\"Train tiles: {len(train_tiles)}\")\n",
    "logging.info(f\"Eval tiles: {len(eval_tiles)}\")\n",
    "logging.info(f\"Test tiles: {len(test_tiles)}\")"
   ],
   "id": "d2cfc663386868e"
  },
  {
   "metadata": {},
   "cell_type": "code",
   "outputs": [],
   "execution_count": null,
   "source": [
    "for mask in train_tiles:\n",
    "    (output_train / \"MASK\").mkdir(parents=True, exist_ok=True)\n",
    "    (output_train / \"IMG\").mkdir(parents=True, exist_ok=True)\n",
    "\n",
    "    shutil.copy(mask, output_train / \"MASK\" / mask.name)\n",
    "\n",
    "    image = input_folder_img / mask.name.replace(\"MASK\", \"IMG\")\n",
    "    shutil.copy(image, output_train / \"IMG\" / image.name)\n",
    "\n",
    "for mask in eval_tiles:\n",
    "    (output_eval / \"MASK\").mkdir(parents=True, exist_ok=True)\n",
    "    (output_eval / \"IMG\").mkdir(parents=True, exist_ok=True)\n",
    "\n",
    "    shutil.copy(mask, output_eval / \"MASK\" / mask.name)\n",
    "\n",
    "    image = input_folder_img / mask.name.replace(\"MASK\", \"IMG\")\n",
    "    shutil.copy(image, output_eval / \"IMG\" / image.name)\n",
    "\n",
    "for mask in test_tiles:\n",
    "    (output_test / \"MASK\").mkdir(parents=True, exist_ok=True)\n",
    "    (output_test / \"IMG\").mkdir(parents=True, exist_ok=True)\n",
    "\n",
    "    shutil.copy(mask, output_test / \"MASK\" / mask.name)\n",
    "\n",
    "    image = input_folder_img / mask.name.replace(\"MASK\", \"IMG\")\n",
    "    shutil.copy(image, output_test / \"IMG\" / image.name)\n",
    "\n",
    "logging.info(\"Dataset distributed successfully.\")"
   ],
   "id": "1a7e182b54792559"
  }
 ],
 "metadata": {
  "kernelspec": {
   "display_name": "Python 3",
   "language": "python",
   "name": "python3"
  },
  "language_info": {
   "codemirror_mode": {
    "name": "ipython",
    "version": 2
   },
   "file_extension": ".py",
   "mimetype": "text/x-python",
   "name": "python",
   "nbconvert_exporter": "python",
   "pygments_lexer": "ipython2",
   "version": "2.7.6"
  }
 },
 "nbformat": 4,
 "nbformat_minor": 5
}
