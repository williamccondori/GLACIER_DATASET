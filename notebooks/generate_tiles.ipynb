{
 "cells": [
  {
   "cell_type": "code",
   "execution_count": null,
   "id": "initial_id",
   "metadata": {
    "collapsed": true
   },
   "outputs": [],
   "source": [
    "import logging\n",
    "from pathlib import Path\n",
    "\n",
    "import numpy as np\n",
    "import rasterio\n",
    "from rasterio.windows import Window, transform\n",
    "\n",
    "logging.basicConfig(\n",
    "    level=logging.INFO,\n",
    "    format=\"%(asctime)s %(levelname)s %(name)s %(message)s\",\n",
    ")"
   ]
  },
  {
   "metadata": {},
   "cell_type": "code",
   "outputs": [],
   "execution_count": null,
   "source": [
    "total_tiles = 0\n",
    "tile_size = 512\n",
    "prefix = \"IMG_\"  # IMG to images, MASK to masks.\n",
    "image_id = \"S2A_MSIL2A_20160728T152642_N0211_R025_T18LTQ_20240316T000332\""
   ],
   "id": "aa251d33d568fc3c"
  },
  {
   "metadata": {},
   "cell_type": "code",
   "outputs": [],
   "execution_count": null,
   "source": [
    "image = Path(f\"data/{image_id}.tif\")\n",
    "\n",
    "output_folder = Path(f\"results/generate_tiles/{image_id}\")\n",
    "output_folder.mkdir(parents=True, exist_ok=True)\n",
    "\n",
    "with rasterio.open(image) as src:\n",
    "    profile = src.profile\n",
    "    profile.update(\n",
    "        height=tile_size,\n",
    "        width=tile_size,\n",
    "        blockxsize=tile_size,\n",
    "        blockysize=tile_size,\n",
    "        tiled=True\n",
    "    )\n",
    "\n",
    "    num_tiles_x = int(np.ceil(src.width / tile_size))\n",
    "    num_tiles_y = int(np.ceil(src.height / tile_size))\n",
    "\n",
    "    logging.info(f\"Number of tiles in x: {num_tiles_x}\")\n",
    "    logging.info(f\"Number of tiles in y: {num_tiles_y}\")\n",
    "    logging.info(f\"Total number of tiles: {num_tiles_x * num_tiles_y}\")\n",
    "\n",
    "    for j in range(num_tiles_x):\n",
    "        for i in range(num_tiles_y):\n",
    "            start_x = j * tile_size\n",
    "            start_y = i * tile_size\n",
    "            end_x = min(start_x + tile_size, src.width)\n",
    "            end_y = min(start_y + tile_size, src.height)\n",
    "\n",
    "            window = Window.from_slices((start_y, end_y), (start_x, end_x))\n",
    "\n",
    "            tile = src.read(window=window)\n",
    "\n",
    "            # If the tile is not the correct size, fill it with zeros.\n",
    "\n",
    "            if tile.shape[1] != tile_size or tile.shape[2] != tile_size:\n",
    "                padded_tile = np.zeros((tile.shape[0], tile_size, tile_size), dtype=tile.dtype)\n",
    "                padded_tile[:, : tile.shape[1], : tile.shape[2]] = tile\n",
    "                tile = padded_tile\n",
    "\n",
    "            # Save the tile.\n",
    "\n",
    "            tile_profile = profile.copy()\n",
    "            tile_profile.update(\n",
    "                height=tile_size,\n",
    "                width=tile_size,\n",
    "                transform=transform(window, src.transform)\n",
    "            )\n",
    "\n",
    "            tile_path = output_folder / f\"{prefix}{total_tiles}.tif\"\n",
    "            with rasterio.open(tile_path, \"w\", **tile_profile) as dst:\n",
    "                dst.write(tile)\n",
    "\n",
    "            total_tiles += 1\n",
    "\n",
    "    logging.info(f\"Total number of tiles saved: {total_tiles}\")"
   ],
   "id": "e437b29510918cf3"
  }
 ],
 "metadata": {
  "kernelspec": {
   "display_name": "Python 3",
   "language": "python",
   "name": "python3"
  },
  "language_info": {
   "codemirror_mode": {
    "name": "ipython",
    "version": 2
   },
   "file_extension": ".py",
   "mimetype": "text/x-python",
   "name": "python",
   "nbconvert_exporter": "python",
   "pygments_lexer": "ipython2",
   "version": "2.7.6"
  }
 },
 "nbformat": 4,
 "nbformat_minor": 5
}
